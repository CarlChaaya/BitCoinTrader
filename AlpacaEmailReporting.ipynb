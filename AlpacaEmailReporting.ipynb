{
 "cells": [
  {
   "cell_type": "code",
   "execution_count": 5,
   "id": "27db6bd1",
   "metadata": {},
   "outputs": [],
   "source": [
    "import alpaca_trade_api as tradeapi\n",
    "from time import time, sleep\n",
    "import smtplib, ssl\n",
    "from email.mime.text import MIMEText\n",
    "from email.mime.multipart import MIMEMultipart"
   ]
  },
  {
   "cell_type": "code",
   "execution_count": 9,
   "id": "cf33d320",
   "metadata": {},
   "outputs": [],
   "source": [
    "def send_email(alpaca, sender_em, sender_password, receiver_em):\n",
    "    account = alpaca.get_account()\n",
    "    port = 465  # For SSL\n",
    "    smtp_server = \"smtp.gmail.com\"\n",
    "    password = sender_password\n",
    "    message = MIMEMultipart(\"Alpaca Bitcoin Reporting\")\n",
    "    message[\"Subject\"] = \"Alpaca Bitcoin Reporting\"\n",
    "    message[\"From\"] = sender_em\n",
    "    message[\"To\"] = receiver_em\n",
    "    text = \"Cash: \" + str(account.cash) + \"\\n\"\n",
    "    text += \"Equity: \" + str(account.equity) + \"\\n\" \n",
    "    text += \"\"\"This message is sent from Python.\"\"\"\n",
    "    \n",
    "    part1 = MIMEText(text, \"plain\")\n",
    "    message.attach(part1)\n",
    "    context = ssl.create_default_context()\n",
    "    with smtplib.SMTP_SSL(\"smtp.gmail.com\", 465, context=context) as server:\n",
    "        server.login(sender_em, password)\n",
    "        server.sendmail(\n",
    "            sender_em, receiver_em, message.as_string()\n",
    "        )"
   ]
  },
  {
   "cell_type": "code",
   "execution_count": 10,
   "id": "1b73c9ed",
   "metadata": {},
   "outputs": [],
   "source": [
    "API_KEY = 'PKS2TLTHBOPM5LYMOSAC'\n",
    "API_SECRET_KEY = 'heEn6wzuMvOsKrG2NmsksY5EsMUK8TbN5bUZLPM4'\n",
    "endpoint_url = 'https://paper-api.alpaca.markets'\n",
    "alpaca = tradeapi.REST(API_KEY, API_SECRET_KEY, endpoint_url, api_version = 'v2')"
   ]
  },
  {
   "cell_type": "code",
   "execution_count": null,
   "id": "1b7b3f76",
   "metadata": {},
   "outputs": [],
   "source": [
    "while True:\n",
    "    sleep(3600)\n",
    "    send_email(alpaca, \"reporting.to.carl@gmail.com\", \"Carluna14\", \"carletiennechaaya@gmail.com\")"
   ]
  },
  {
   "cell_type": "code",
   "execution_count": null,
   "id": "23da1d20",
   "metadata": {},
   "outputs": [],
   "source": []
  }
 ],
 "metadata": {
  "kernelspec": {
   "display_name": "Python 3",
   "language": "python",
   "name": "python3"
  },
  "language_info": {
   "codemirror_mode": {
    "name": "ipython",
    "version": 3
   },
   "file_extension": ".py",
   "mimetype": "text/x-python",
   "name": "python",
   "nbconvert_exporter": "python",
   "pygments_lexer": "ipython3",
   "version": "3.8.8"
  }
 },
 "nbformat": 4,
 "nbformat_minor": 5
}
