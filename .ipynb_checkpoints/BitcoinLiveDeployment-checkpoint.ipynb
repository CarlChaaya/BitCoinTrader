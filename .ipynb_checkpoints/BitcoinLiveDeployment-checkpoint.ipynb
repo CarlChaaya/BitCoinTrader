{
 "cells": [
  {
   "cell_type": "code",
   "execution_count": 10,
   "id": "a65fafd3",
   "metadata": {},
   "outputs": [],
   "source": [
    "import alpaca_trade_api as tradeapi\n",
    "import numpy as np\n",
    "import pandas as pd\n",
    "import gym\n",
    "import numpy as np\n",
    "from stable_baselines3 import A2C, DDPG, PPO\n",
    "from gym.spaces import Discrete, Box, MultiDiscrete, Dict\n",
    "from stable_baselines3.common.env_checker import check_env\n",
    "import random\n",
    "from getdata import get_data\n",
    "from time import time, sleep\n",
    "import yfinance as yf"
   ]
  },
  {
   "cell_type": "code",
   "execution_count": 34,
   "id": "93639cc5",
   "metadata": {},
   "outputs": [],
   "source": [
    "class BitcoinTradingOnline(gym.Env):\n",
    "    def __init__(self, API_KEY, API_SECRET_KEY, endpoint_url = 'https://paper-api.alpaca.markets'):\n",
    "        \n",
    "        self.alpaca = tradeapi.REST(API_KEY, API_SECRET_KEY, endpoint_url, api_version = 'v2')\n",
    "        self.account = self.alpaca.get_account()\n",
    "        self.initial_balance = self.account.cash\n",
    "        self.bitcoins = 0\n",
    "        self.action_space = Box(low = -0.25, high = 0.25, shape = (1,)) \n",
    "        spaces = {\n",
    "            'Balance' : Box(low = 0, high = 10000, shape = (1,)),\n",
    "            'Bitcoins' : Box(low = 0, high = 5, shape = (1,)),\n",
    "            'Open' : Box(low = 0, high = 100000, shape = (30,)),\n",
    "            'High' : Box(low = 0, high = 100000, shape = (30,)),\n",
    "            'Low' : Box(low = 0, high = 100000, shape = (30,)),\n",
    "            'Close': Box(low = 0, high = 100000, shape = (30,)),\n",
    "            'Adj Close': Box(low = 0, high = 100000, shape = (30,)),\n",
    "            'Volume': Box(low = 0, high = 99999999, shape = (30,))\n",
    "        }\n",
    "        self.observation_space = Dict(spaces)\n",
    "    \n",
    "    def get_data(self, \n",
    "                 symbol = 'BTC-USD'):\n",
    "        \n",
    "        data = yf.download(tickers=symbol, period = '140m', interval = '5m')\n",
    "        \n",
    "        state = {}\n",
    "        self.balance = float(self.alpaca.get_account().cash)\n",
    "        state['Balance'] = self.balance\n",
    "        state['Bitcoins'] = self.bitcoins\n",
    "        state['Open'] = np.array(data[\"Open\"].tolist())\n",
    "        state['High'] = np.array(data[\"High\"].tolist())\n",
    "        state['Low'] = np.array(data[\"Low\"].tolist())\n",
    "        state['Close'] = np.array(data[\"Close\"].tolist())\n",
    "        state['Adj Close'] = np.array(data[\"Adj Close\"].tolist())\n",
    "        state['Volume'] = np.array(data[\"Volume\"].tolist())\n",
    "        \n",
    "        return state\n",
    "        \n",
    "    \n",
    "    def reset(self):\n",
    "        self.initial_balance = self.account.cash\n",
    "        return self.get_data()\n",
    "    \n",
    "    def step(self, action):\n",
    "        self._take_action(action)\n",
    "        self.net_worth = float(self.alpaca.get_account().equity)\n",
    "        reward = self.net_worth\n",
    "        if self.net_worth <= 0:\n",
    "            done = True\n",
    "        else:\n",
    "            done = False\n",
    "        sleep(60)\n",
    "        obs = self.get_data()\n",
    "        return obs, reward, done, {}\n",
    "        \n",
    "    def _take_action(self,action):\n",
    "        data = self.get_data()\n",
    "        \n",
    "        if action[0] > 0:\n",
    "            amount = self.balance*action[0]\n",
    "            b_bitcoins = amount/self.data[\"Close\"].tolist()[-1]\n",
    "            self.bitcoins += b_bitcoins\n",
    "            self.alpaca.submit_order(symbol = 'BTCUSD',\n",
    "                                    qty = b_bitcoins,\n",
    "                                    side = 'buy',\n",
    "                                    type = 'market',\n",
    "                                    time_in_force = 'gtc')\n",
    "            print('Bought ' + str(b_bitcoins) +' ' + 'bitcoins')\n",
    "\n",
    "        if action[0] < 0:\n",
    "            amount = -self.bitcoins*action[0]\n",
    "            self.bitcoins -= amount\n",
    "            self.alpaca.submit_order(symbol = 'BTCUSD',\n",
    "                                    qty = b_bitcoins,\n",
    "                                    side = 'sell',\n",
    "                                    type = 'market',\n",
    "                                    time_in_force = 'gtc')\n",
    "            print('Sold ' + str(amount) +' ' + 'bitcoins')\n",
    "            \n",
    "        def render(self):\n",
    "            print('Net Worth: ' + str(self.net_worth))"
   ]
  },
  {
   "cell_type": "code",
   "execution_count": 35,
   "id": "ea216acd",
   "metadata": {},
   "outputs": [],
   "source": [
    "API_KEY = 'PKO9SKII5JBADRI7MDM4'\n",
    "API_SECRET_KEY = 'd2oFKYOVjDWQW2DxMam2FpdZrKujHgvxHhsKTkBq'\n",
    "endpoint_url = 'https://paper-api.alpaca.markets'\n",
    "env = BitcoinTradingOnline(API_KEY, API_SECRET_KEY)"
   ]
  },
  {
   "cell_type": "code",
   "execution_count": 36,
   "id": "d2b348d3",
   "metadata": {},
   "outputs": [
    {
     "name": "stdout",
     "output_type": "stream",
     "text": [
      "[*********************100%***********************]  1 of 1 completed\n"
     ]
    },
    {
     "ename": "AssertionError",
     "evalue": "Error while checking key=Adj Close: The observation returned by the `reset()` method does not match the given observation space",
     "output_type": "error",
     "traceback": [
      "\u001b[1;31m---------------------------------------------------------------------------\u001b[0m",
      "\u001b[1;31mAssertionError\u001b[0m                            Traceback (most recent call last)",
      "\u001b[1;32m~\\Anaconda3\\lib\\site-packages\\stable_baselines3\\common\\env_checker.py\u001b[0m in \u001b[0;36m_check_returned_values\u001b[1;34m(env, observation_space, action_space)\u001b[0m\n\u001b[0;32m    147\u001b[0m             \u001b[1;32mtry\u001b[0m\u001b[1;33m:\u001b[0m\u001b[1;33m\u001b[0m\u001b[1;33m\u001b[0m\u001b[0m\n\u001b[1;32m--> 148\u001b[1;33m                 \u001b[0m_check_obs\u001b[0m\u001b[1;33m(\u001b[0m\u001b[0mobs\u001b[0m\u001b[1;33m[\u001b[0m\u001b[0mkey\u001b[0m\u001b[1;33m]\u001b[0m\u001b[1;33m,\u001b[0m \u001b[0mobservation_space\u001b[0m\u001b[1;33m.\u001b[0m\u001b[0mspaces\u001b[0m\u001b[1;33m[\u001b[0m\u001b[0mkey\u001b[0m\u001b[1;33m]\u001b[0m\u001b[1;33m,\u001b[0m \u001b[1;34m\"reset\"\u001b[0m\u001b[1;33m)\u001b[0m\u001b[1;33m\u001b[0m\u001b[1;33m\u001b[0m\u001b[0m\n\u001b[0m\u001b[0;32m    149\u001b[0m             \u001b[1;32mexcept\u001b[0m \u001b[0mAssertionError\u001b[0m \u001b[1;32mas\u001b[0m \u001b[0me\u001b[0m\u001b[1;33m:\u001b[0m\u001b[1;33m\u001b[0m\u001b[1;33m\u001b[0m\u001b[0m\n",
      "\u001b[1;32m~\\Anaconda3\\lib\\site-packages\\stable_baselines3\\common\\env_checker.py\u001b[0m in \u001b[0;36m_check_obs\u001b[1;34m(obs, observation_space, method_name)\u001b[0m\n\u001b[0;32m    111\u001b[0m \u001b[1;33m\u001b[0m\u001b[0m\n\u001b[1;32m--> 112\u001b[1;33m     assert observation_space.contains(\n\u001b[0m\u001b[0;32m    113\u001b[0m         \u001b[0mobs\u001b[0m\u001b[1;33m\u001b[0m\u001b[1;33m\u001b[0m\u001b[0m\n",
      "\u001b[1;31mAssertionError\u001b[0m: The observation returned by the `reset()` method does not match the given observation space",
      "\nDuring handling of the above exception, another exception occurred:\n",
      "\u001b[1;31mAssertionError\u001b[0m                            Traceback (most recent call last)",
      "\u001b[1;32m<ipython-input-36-189ddb41c7af>\u001b[0m in \u001b[0;36m<module>\u001b[1;34m\u001b[0m\n\u001b[1;32m----> 1\u001b[1;33m \u001b[0mcheck_env\u001b[0m\u001b[1;33m(\u001b[0m\u001b[0menv\u001b[0m\u001b[1;33m,\u001b[0m \u001b[0mwarn\u001b[0m \u001b[1;33m=\u001b[0m \u001b[1;32mTrue\u001b[0m\u001b[1;33m)\u001b[0m\u001b[1;33m\u001b[0m\u001b[1;33m\u001b[0m\u001b[0m\n\u001b[0m",
      "\u001b[1;32m~\\Anaconda3\\lib\\site-packages\\stable_baselines3\\common\\env_checker.py\u001b[0m in \u001b[0;36mcheck_env\u001b[1;34m(env, warn, skip_render_check)\u001b[0m\n\u001b[0;32m    276\u001b[0m \u001b[1;33m\u001b[0m\u001b[0m\n\u001b[0;32m    277\u001b[0m     \u001b[1;31m# ============ Check the returned values ===============\u001b[0m\u001b[1;33m\u001b[0m\u001b[1;33m\u001b[0m\u001b[1;33m\u001b[0m\u001b[0m\n\u001b[1;32m--> 278\u001b[1;33m     \u001b[0m_check_returned_values\u001b[0m\u001b[1;33m(\u001b[0m\u001b[0menv\u001b[0m\u001b[1;33m,\u001b[0m \u001b[0mobservation_space\u001b[0m\u001b[1;33m,\u001b[0m \u001b[0maction_space\u001b[0m\u001b[1;33m)\u001b[0m\u001b[1;33m\u001b[0m\u001b[1;33m\u001b[0m\u001b[0m\n\u001b[0m\u001b[0;32m    279\u001b[0m \u001b[1;33m\u001b[0m\u001b[0m\n\u001b[0;32m    280\u001b[0m     \u001b[1;31m# ==== Check the render method and the declared render modes ====\u001b[0m\u001b[1;33m\u001b[0m\u001b[1;33m\u001b[0m\u001b[1;33m\u001b[0m\u001b[0m\n",
      "\u001b[1;32m~\\Anaconda3\\lib\\site-packages\\stable_baselines3\\common\\env_checker.py\u001b[0m in \u001b[0;36m_check_returned_values\u001b[1;34m(env, observation_space, action_space)\u001b[0m\n\u001b[0;32m    148\u001b[0m                 \u001b[0m_check_obs\u001b[0m\u001b[1;33m(\u001b[0m\u001b[0mobs\u001b[0m\u001b[1;33m[\u001b[0m\u001b[0mkey\u001b[0m\u001b[1;33m]\u001b[0m\u001b[1;33m,\u001b[0m \u001b[0mobservation_space\u001b[0m\u001b[1;33m.\u001b[0m\u001b[0mspaces\u001b[0m\u001b[1;33m[\u001b[0m\u001b[0mkey\u001b[0m\u001b[1;33m]\u001b[0m\u001b[1;33m,\u001b[0m \u001b[1;34m\"reset\"\u001b[0m\u001b[1;33m)\u001b[0m\u001b[1;33m\u001b[0m\u001b[1;33m\u001b[0m\u001b[0m\n\u001b[0;32m    149\u001b[0m             \u001b[1;32mexcept\u001b[0m \u001b[0mAssertionError\u001b[0m \u001b[1;32mas\u001b[0m \u001b[0me\u001b[0m\u001b[1;33m:\u001b[0m\u001b[1;33m\u001b[0m\u001b[1;33m\u001b[0m\u001b[0m\n\u001b[1;32m--> 150\u001b[1;33m                 \u001b[1;32mraise\u001b[0m \u001b[0mAssertionError\u001b[0m\u001b[1;33m(\u001b[0m\u001b[1;34mf\"Error while checking key={key}: \"\u001b[0m \u001b[1;33m+\u001b[0m \u001b[0mstr\u001b[0m\u001b[1;33m(\u001b[0m\u001b[0me\u001b[0m\u001b[1;33m)\u001b[0m\u001b[1;33m)\u001b[0m\u001b[1;33m\u001b[0m\u001b[1;33m\u001b[0m\u001b[0m\n\u001b[0m\u001b[0;32m    151\u001b[0m     \u001b[1;32melse\u001b[0m\u001b[1;33m:\u001b[0m\u001b[1;33m\u001b[0m\u001b[1;33m\u001b[0m\u001b[0m\n\u001b[0;32m    152\u001b[0m         \u001b[0m_check_obs\u001b[0m\u001b[1;33m(\u001b[0m\u001b[0mobs\u001b[0m\u001b[1;33m,\u001b[0m \u001b[0mobservation_space\u001b[0m\u001b[1;33m,\u001b[0m \u001b[1;34m\"reset\"\u001b[0m\u001b[1;33m)\u001b[0m\u001b[1;33m\u001b[0m\u001b[1;33m\u001b[0m\u001b[0m\n",
      "\u001b[1;31mAssertionError\u001b[0m: Error while checking key=Adj Close: The observation returned by the `reset()` method does not match the given observation space"
     ]
    }
   ],
   "source": [
    "check_env(env, warn = True)"
   ]
  },
  {
   "cell_type": "code",
   "execution_count": 38,
   "id": "ef972b2c",
   "metadata": {},
   "outputs": [
    {
     "name": "stdout",
     "output_type": "stream",
     "text": [
      "[*********************100%***********************]  1 of 1 completed\n"
     ]
    }
   ],
   "source": [
    "data = yf.download(tickers='BTC-USD', period = '140m', interval = '5m')    \n",
    "state = {}\n",
    "state['Balance'] = 1\n",
    "state['Bitcoins'] = 1\n",
    "state['Open'] = np.array(data[\"Open\"].tolist())\n",
    "state['High'] = np.array(data[\"High\"].tolist())\n",
    "state['Low'] = np.array(data[\"Low\"].tolist())\n",
    "state['Close'] = np.array(data[\"Close\"].tolist())\n",
    "state['Adj Close'] = np.array(data[\"Adj Close\"].tolist())\n",
    "state['Volume'] = np.array(data[\"Volume\"].tolist())\n"
   ]
  },
  {
   "cell_type": "code",
   "execution_count": null,
   "id": "ff80f31a",
   "metadata": {},
   "outputs": [],
   "source": []
  }
 ],
 "metadata": {
  "kernelspec": {
   "display_name": "Python 3",
   "language": "python",
   "name": "python3"
  },
  "language_info": {
   "codemirror_mode": {
    "name": "ipython",
    "version": 3
   },
   "file_extension": ".py",
   "mimetype": "text/x-python",
   "name": "python",
   "nbconvert_exporter": "python",
   "pygments_lexer": "ipython3",
   "version": "3.8.8"
  }
 },
 "nbformat": 4,
 "nbformat_minor": 5
}
